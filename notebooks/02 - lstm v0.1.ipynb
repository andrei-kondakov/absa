{
 "cells": [
  {
   "cell_type": "code",
   "execution_count": 5,
   "metadata": {},
   "outputs": [],
   "source": [
    "import numpy as np\n",
    "\n",
    "from keras.models import Sequential\n",
    "from keras.layers import Embedding, Dense\n",
    "from keras.layers.recurrent import LSTM\n",
    "\n",
    "from data.models import SentenceBatch, Task\n",
    "from keras_ml.models import Model, TrainSession\n",
    "from word_embeddings.utils import load_w2v_model\n",
    "from keras import backend as K\n",
    "\n",
    "from tqdm import tqdm_notebook\n",
    "import itertools"
   ]
  },
  {
   "cell_type": "code",
   "execution_count": 6,
   "metadata": {},
   "outputs": [
    {
     "name": "stdout",
     "output_type": "stream",
     "text": [
      "Loading w2v model using cache\n"
     ]
    }
   ],
   "source": [
    "task = Task.objects.get(\n",
    "    type=Task.Type.ASPECT_DETECTION,\n",
    "    aspect_entity='AMBIENCE',\n",
    "    aspect_attribute='GENERAL'\n",
    ")\n",
    "batch = SentenceBatch.objects.filter(task=task).first()\n",
    "w2v_model = load_w2v_model(batch.w2v_model)"
   ]
  },
  {
   "cell_type": "code",
   "execution_count": 7,
   "metadata": {},
   "outputs": [
    {
     "name": "stdout",
     "output_type": "stream",
     "text": [
      "_________________________________________________________________\n",
      "Layer (type)                 Output Shape              Param #   \n",
      "=================================================================\n",
      "embedding_1 (Embedding)      (None, 60, 300)           9687300   \n",
      "_________________________________________________________________\n",
      "lstm_1 (LSTM)                (None, 200)               400800    \n",
      "_________________________________________________________________\n",
      "dense_1 (Dense)              (None, 1)                 201       \n",
      "=================================================================\n",
      "Total params: 10,088,301\n",
      "Trainable params: 10,088,301\n",
      "Non-trainable params: 0\n",
      "_________________________________________________________________\n"
     ]
    }
   ],
   "source": [
    "K.clear_session()\n",
    "embedding_layer = Embedding(\n",
    "    input_dim=len(w2v_model.wv.vocab),\n",
    "    output_dim=w2v_model.vector_size,\n",
    "    input_length=len(batch.x_train[0]),\n",
    "    mask_zero=True\n",
    ")\n",
    "\n",
    "lstm_layer = LSTM(\n",
    "    units=200,\n",
    "    activation='selu',\n",
    "    recurrent_activation='hard_sigmoid'\n",
    ")\n",
    "dense_layer = Dense(1, activation='sigmoid')\n",
    "\n",
    "model = Sequential()\n",
    "model.add(embedding_layer)\n",
    "model.add(lstm_layer)\n",
    "model.add(dense_layer)\n",
    "\n",
    "config = model.get_config()\n",
    "compile_opts = dict(\n",
    "    loss='binary_crossentropy',\n",
    "    optimizer='adam',\n",
    "    metrics=['accuracy']\n",
    ")\n",
    "train_opts = dict(\n",
    "    epochs=10,\n",
    "    validation_split=0.1,\n",
    "    batch_size=128\n",
    ")\n",
    "\n",
    "model.compile(**compile_opts)\n",
    "model.summary()"
   ]
  },
  {
   "cell_type": "code",
   "execution_count": null,
   "metadata": {},
   "outputs": [],
   "source": [
    "config"
   ]
  },
  {
   "cell_type": "code",
   "execution_count": null,
   "metadata": {},
   "outputs": [],
   "source": [
    "model.get_config()"
   ]
  },
  {
   "cell_type": "code",
   "execution_count": null,
   "metadata": {},
   "outputs": [],
   "source": [
    "x_train = np.array(batch.x_train)\n",
    "y_train = np.array(batch.y_train)\n",
    "# model.fit(x_train, y_train, **train_opts)"
   ]
  },
  {
   "cell_type": "code",
   "execution_count": 9,
   "metadata": {},
   "outputs": [],
   "source": [
    "keras_model, _ = Model.objects.get_or_create(\n",
    "    config=model.get_config(),\n",
    "    compile_opts=compile_opts\n",
    ")"
   ]
  },
  {
   "cell_type": "code",
   "execution_count": null,
   "metadata": {},
   "outputs": [],
   "source": [
    "TrainSession.objects.create(\n",
    "            model=keras_model,\n",
    "            batch=batch,\n",
    "            train_opts=train_opts\n",
    "        )"
   ]
  },
  {
   "cell_type": "code",
   "execution_count": null,
   "metadata": {},
   "outputs": [],
   "source": [
    "TrainSession.objects.count()"
   ]
  },
  {
   "cell_type": "code",
   "execution_count": null,
   "metadata": {},
   "outputs": [],
   "source": [
    "runs = 1\n",
    "SentenceBatch.objects.filter(task__type=Task.Type.ASPECT_DETECTION).count() * runs * 100"
   ]
  },
  {
   "cell_type": "code",
   "execution_count": null,
   "metadata": {},
   "outputs": [],
   "source": [
    "for batch in tqdm_notebook(SentenceBatch.objects.filter(task__type=Task.Type.ASPECT_DETECTION)):\n",
    "    for _ in range(runs):\n",
    "        TrainSession.objects.create(\n",
    "            model=keras_model,\n",
    "            batch=batch,\n",
    "            train_opts=train_opts\n",
    "        )"
   ]
  },
  {
   "cell_type": "code",
   "execution_count": null,
   "metadata": {},
   "outputs": [],
   "source": [
    "Model.objects.count()"
   ]
  },
  {
   "cell_type": "code",
   "execution_count": null,
   "metadata": {},
   "outputs": [],
   "source": [
    "activations = ['softmax', 'elu', 'selu', 'softplus', 'softsign', 'relu', 'tanh', 'sigmoid', 'hard_sigmoid', 'linear']\n",
    "activation_pairs = []\n",
    "for activation, recurrent_activation in tqdm_notebook(itertools.product(activations, repeat=2)):\n",
    "    K.clear_session()\n",
    "    # Create model\n",
    "    embedding_layer = Embedding(\n",
    "    input_dim=len(w2v_model.wv.vocab),\n",
    "    output_dim=w2v_model.vector_size,\n",
    "    input_length=len(batch.x_train[0]),\n",
    "    mask_zero=True\n",
    "    )\n",
    "\n",
    "    lstm_layer = LSTM(\n",
    "        units=200,\n",
    "        activation=activation,\n",
    "        recurrent_activation=recurrent_activation\n",
    "    )\n",
    "    dense_layer = Dense(1, activation='sigmoid')\n",
    "\n",
    "    model = Sequential()\n",
    "    model.add(embedding_layer)\n",
    "    model.add(lstm_layer)\n",
    "    model.add(dense_layer)\n",
    "\n",
    "    config = model.get_config()\n",
    "    compile_opts = dict(\n",
    "        loss='binary_crossentropy',\n",
    "        optimizer='adam',\n",
    "        metrics=['accuracy']\n",
    "    )\n",
    "    train_opts = dict(\n",
    "        epochs=10,\n",
    "        validation_split=0.1,\n",
    "        batch_size=128\n",
    "    )\n",
    "    \n",
    "    keras_model, _ = Model.objects.get_or_create(\n",
    "        config=model.get_config(),\n",
    "        compile_opts=compile_opts\n",
    "    )\n"
   ]
  },
  {
   "cell_type": "code",
   "execution_count": null,
   "metadata": {},
   "outputs": [],
   "source": [
    "for model in tqdm_notebook(Model.objects.all()):\n",
    "    for batch in SentenceBatch.objects.filter(task__type=Task.Type.ASPECT_DETECTION):\n",
    "        TrainSession.objects.create(\n",
    "            model=model,\n",
    "            batch=batch,\n",
    "            train_opts=train_opts\n",
    "        )"
   ]
  },
  {
   "cell_type": "code",
   "execution_count": null,
   "metadata": {},
   "outputs": [],
   "source": []
  },
  {
   "cell_type": "code",
   "execution_count": null,
   "metadata": {},
   "outputs": [],
   "source": [
    "# POLARITY DETECTION"
   ]
  },
  {
   "cell_type": "code",
   "execution_count": 10,
   "metadata": {},
   "outputs": [
    {
     "data": {
      "application/vnd.jupyter.widget-view+json": {
       "model_id": "f366cb5aba564d4eafd33fe04cd3bfae",
       "version_major": 2,
       "version_minor": 0
      },
      "text/html": [
       "<p>Failed to display Jupyter Widget of type <code>HBox</code>.</p>\n",
       "<p>\n",
       "  If you're reading this message in the Jupyter Notebook or JupyterLab Notebook, it may mean\n",
       "  that the widgets JavaScript is still loading. If this message persists, it\n",
       "  likely means that the widgets JavaScript library is either not installed or\n",
       "  not enabled. See the <a href=\"https://ipywidgets.readthedocs.io/en/stable/user_install.html\">Jupyter\n",
       "  Widgets Documentation</a> for setup instructions.\n",
       "</p>\n",
       "<p>\n",
       "  If you're reading this message in another frontend (for example, a static\n",
       "  rendering on GitHub or <a href=\"https://nbviewer.jupyter.org/\">NBViewer</a>),\n",
       "  it may mean that your frontend doesn't currently support widgets.\n",
       "</p>\n"
      ],
      "text/plain": [
       "HBox(children=(IntProgress(value=0, max=3), HTML(value='')))"
      ]
     },
     "metadata": {},
     "output_type": "display_data"
    },
    {
     "name": "stdout",
     "output_type": "stream",
     "text": [
      "\n"
     ]
    }
   ],
   "source": [
    "for batch in tqdm_notebook(SentenceBatch.objects.filter(task__type=Task.Type.POLARITY_DETECTION)):\n",
    "    for _ in range(1):\n",
    "        TrainSession.objects.create(\n",
    "            model=keras_model,\n",
    "            batch=batch,\n",
    "            train_opts=train_opts\n",
    "        )"
   ]
  },
  {
   "cell_type": "code",
   "execution_count": null,
   "metadata": {},
   "outputs": [],
   "source": []
  }
 ],
 "metadata": {
  "kernelspec": {
   "display_name": "Django Shell-Plus",
   "language": "python",
   "name": "django_extensions"
  },
  "language_info": {
   "codemirror_mode": {
    "name": "ipython",
    "version": 3
   },
   "file_extension": ".py",
   "mimetype": "text/x-python",
   "name": "python",
   "nbconvert_exporter": "python",
   "pygments_lexer": "ipython3",
   "version": "3.6.4"
  }
 },
 "nbformat": 4,
 "nbformat_minor": 2
}
