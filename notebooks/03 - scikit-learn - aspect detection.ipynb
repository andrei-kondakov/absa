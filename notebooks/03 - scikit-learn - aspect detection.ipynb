{
 "cells": [
  {
   "cell_type": "code",
   "execution_count": 24,
   "metadata": {
    "collapsed": true
   },
   "outputs": [],
   "source": [
    "from sklearn.exceptions import UndefinedMetricWarning\n",
    "import warnings\n",
    "warnings.filterwarnings(action='ignore', category=UndefinedMetricWarning)\n",
    "\n",
    "\n",
    "\n",
    "import numpy as np\n",
    "import pandas as pd\n",
    "import json\n",
    "\n",
    "from sklearn import metrics\n",
    "from sklearn.svm import LinearSVC\n",
    "from sklearn.naive_bayes import MultinomialNB, GaussianNB\n",
    "from sklearn.tree import DecisionTreeClassifier\n",
    "from sklearn.ensemble import GradientBoostingClassifier, RandomForestClassifier, AdaBoostClassifier\n",
    "from sklearn.feature_extraction.text import CountVectorizer, TfidfVectorizer\n",
    "from sklearn.discriminant_analysis import QuadraticDiscriminantAnalysis\n",
    "from sklearn.neural_network import MLPClassifier\n",
    "\n",
    "from nltk.corpus import stopwords\n",
    "from many_stop_words import get_stop_words\n",
    "\n",
    "\n",
    "\n",
    "from tqdm import tqdm_notebook\n",
    "\n",
    "from data.utils.preprocessing import Preprocessing, preprocess\n",
    "from data.utils.processing import Processing\n"
   ]
  },
  {
   "cell_type": "code",
   "execution_count": 25,
   "metadata": {},
   "outputs": [
    {
     "data": {
      "application/vnd.jupyter.widget-view+json": {
       "model_id": "a9f43e898f814bd0a6b76789dcabe1a2",
       "version_major": 2,
       "version_minor": 0
      },
      "text/html": [
       "<p>Failed to display Jupyter Widget of type <code>HBox</code>.</p>\n",
       "<p>\n",
       "  If you're reading this message in the Jupyter Notebook or JupyterLab Notebook, it may mean\n",
       "  that the widgets JavaScript is still loading. If this message persists, it\n",
       "  likely means that the widgets JavaScript library is either not installed or\n",
       "  not enabled. See the <a href=\"https://ipywidgets.readthedocs.io/en/stable/user_install.html\">Jupyter\n",
       "  Widgets Documentation</a> for setup instructions.\n",
       "</p>\n",
       "<p>\n",
       "  If you're reading this message in another frontend (for example, a static\n",
       "  rendering on GitHub or <a href=\"https://nbviewer.jupyter.org/\">NBViewer</a>),\n",
       "  it may mean that your frontend doesn't currently support widgets.\n",
       "</p>\n"
      ],
      "text/plain": [
       "HBox(children=(IntProgress(value=1, bar_style='info', max=1), HTML(value='')))"
      ]
     },
     "metadata": {},
     "output_type": "display_data"
    },
    {
     "name": "stdout",
     "output_type": "stream",
     "text": [
      "\n"
     ]
    }
   ],
   "source": [
    "RESTAURANT_CATEGORIES = [\n",
    "    'AMBIENCE#GENERAL',\n",
    "    'DRINKS#PRICES',\n",
    "    'DRINKS#QUALITY',\n",
    "    'DRINKS#STYLE_OPTIONS',\n",
    "    'FOOD#PRICES',\n",
    "    'FOOD#QUALITY',\n",
    "    'FOOD#STYLE_OPTIONS',\n",
    "    'LOCATION#GENERAL',\n",
    "    'RESTAURANT#GENERAL',\n",
    "    'RESTAURANT#MISCELLANEOUS',\n",
    "    'RESTAURANT#PRICES',\n",
    "    'SERVICE#GENERAL'\n",
    "]\n",
    "preprocessing = Preprocessing.PREPROCESSING_1\n",
    "\n",
    "train_batch = {}\n",
    "test_batch = {}\n",
    "\n",
    "train_sentences = TrainSentence.objects.filter(out_of_scope=False)\n",
    "test_sentences = TestSentence.objects.filter(out_of_scope=False)\n",
    "\n",
    "def get_ys(sentences, target_category):\n",
    "    ys = []\n",
    "    for sentence in sentences:\n",
    "        y = int(any([target_category in category for category in sentence.categories]))\n",
    "        ys.append(y)\n",
    "    return ys\n",
    "\n",
    "def get_sentence_batch(sentence_type, category):\n",
    "    sentences = train_sentences if sentence_type == 'train' else test_sentences\n",
    "    X_raw = [x.text for x in sentences]\n",
    "    X_preproc = preprocess(X_raw, preprocessing)\n",
    "    y = get_ys(sentences, category)\n",
    "    return X_preproc, y\n",
    "\n",
    "\n",
    "for idx, category in tqdm_notebook(enumerate(RESTAURANT_CATEGORIES)):\n",
    "    train_batch[category] = get_sentence_batch('train', category)\n",
    "    test_batch[category]  = get_sentence_batch('test', category)\n"
   ]
  },
  {
   "cell_type": "markdown",
   "metadata": {},
   "source": [
    "# Исследование: выбор алгоритма классификации и способа векторизации"
   ]
  },
  {
   "cell_type": "code",
   "execution_count": 38,
   "metadata": {
    "collapsed": true
   },
   "outputs": [],
   "source": [
    "colors = [\n",
    "    '#109618', '#FF9900', '#3366CC', '#DC3912', '#0099C6','#DD4477', '#AAAA11','#994499','#22AA99','#6633CC','#E67300','#8B0707','#329262','#5574A6','#3B3EAC'\n",
    "]"
   ]
  },
  {
   "cell_type": "code",
   "execution_count": 39,
   "metadata": {
    "collapsed": true
   },
   "outputs": [],
   "source": [
    "def test(clfs, vectorizers):\n",
    "    chart_data = {\n",
    "        'data': {\n",
    "            'labels': [vectorizer['name'] for vectorizer in vectorizers],\n",
    "            'datasets': []\n",
    "        },\n",
    "        'options': {\n",
    "            'title': {\n",
    "                'text': \"Классификаторы аспектов\",\n",
    "                'display': True,\n",
    "                'fontSize': 18\n",
    "            },\n",
    "            'scales': {\n",
    "                'yAxes': [{\n",
    "                    'scaleLabel': {\n",
    "                        'display': True,\n",
    "                        'labelString': 'F1 macro'\n",
    "                    }\n",
    "                }]\n",
    "            },\n",
    "            'responsive': True\n",
    "        }\n",
    "    }\n",
    "    for i, clf in tqdm_notebook(enumerate(clfs)):\n",
    "        dataset = {\n",
    "            'label': clf['name'],\n",
    "            'data': [],\n",
    "            'backgroundColor': colors[i]\n",
    "        }\n",
    "        for vectroizer in vectorizers:\n",
    "            result = pd.DataFrame(columns=['Category', 'Precision', 'Recall', 'F1-score', 'Accuracy'])\n",
    "            for idx, category in enumerate(RESTAURANT_CATEGORIES):\n",
    "                category_clf = clf['clf']\n",
    "                cv = vectroizer['vect']\n",
    "                X_train_raw, y_train = train_batch[category]\n",
    "                X_train = cv.fit_transform(X_train_raw)\n",
    "                if clf['name'] in ['GaussianNB', 'QuadraticDiscriminantAnalysis']:\n",
    "                    X_train = X_train.toarray()\n",
    "                category_clf.fit(X_train, y_train)\n",
    "\n",
    "                X_test_raw, y_test = test_batch[category]\n",
    "                X_test = cv.transform(X_test_raw)\n",
    "                if clf['name'] in ['GaussianNB', 'QuadraticDiscriminantAnalysis']:\n",
    "                    X_test = X_test.toarray()\n",
    "                y_pred = category_clf.predict(X_test)\n",
    "\n",
    "                precision, recall, f1_score, _ = metrics.precision_recall_fscore_support(y_true=y_test, y_pred=y_pred, beta=1, average='binary')\n",
    "                accuracy = metrics.accuracy_score(y_true=y_test, y_pred=y_pred)\n",
    "                result.loc[idx] = [category, precision, recall, f1_score, accuracy]\n",
    "\n",
    "            F1_macro = np.mean(result['F1-score'])\n",
    "            accuracy_macro = np.mean(result['Accuracy'])\n",
    "            dataset['data'].append(F1_macro)\n",
    "        chart_data['data']['datasets'].append(dataset)\n",
    "    return chart_data"
   ]
  },
  {
   "cell_type": "code",
   "execution_count": 40,
   "metadata": {},
   "outputs": [
    {
     "data": {
      "application/vnd.jupyter.widget-view+json": {
       "model_id": "844bc1fe114a429e8e72016f9c09a9ba",
       "version_major": 2,
       "version_minor": 0
      },
      "text/html": [
       "<p>Failed to display Jupyter Widget of type <code>HBox</code>.</p>\n",
       "<p>\n",
       "  If you're reading this message in the Jupyter Notebook or JupyterLab Notebook, it may mean\n",
       "  that the widgets JavaScript is still loading. If this message persists, it\n",
       "  likely means that the widgets JavaScript library is either not installed or\n",
       "  not enabled. See the <a href=\"https://ipywidgets.readthedocs.io/en/stable/user_install.html\">Jupyter\n",
       "  Widgets Documentation</a> for setup instructions.\n",
       "</p>\n",
       "<p>\n",
       "  If you're reading this message in another frontend (for example, a static\n",
       "  rendering on GitHub or <a href=\"https://nbviewer.jupyter.org/\">NBViewer</a>),\n",
       "  it may mean that your frontend doesn't currently support widgets.\n",
       "</p>\n"
      ],
      "text/plain": [
       "HBox(children=(IntProgress(value=1, bar_style='info', max=1), HTML(value='')))"
      ]
     },
     "metadata": {},
     "output_type": "display_data"
    },
    {
     "name": "stdout",
     "output_type": "stream",
     "text": [
      "\n"
     ]
    }
   ],
   "source": [
    "clfs = [\n",
    "    {\n",
    "        'name': 'MultinomialNB',\n",
    "        'clf': MultinomialNB()\n",
    "    },\n",
    "    {\n",
    "        'name': 'GaussianNB',\n",
    "        'clf': GaussianNB()\n",
    "    },\n",
    "    {\n",
    "        'name': 'LinearSVC',\n",
    "        'clf': LinearSVC(C=2)\n",
    "    },\n",
    "    {\n",
    "        'name': 'GradientBoostingClassifier',\n",
    "        'clf': GradientBoostingClassifier()\n",
    "    },\n",
    "    {\n",
    "        'name': 'RandomForestClassifier',\n",
    "        'clf': RandomForestClassifier()\n",
    "    },\n",
    "    {\n",
    "        'name': 'AdaBoostClassifier',\n",
    "        'clf': AdaBoostClassifier()\n",
    "    },\n",
    "    {\n",
    "        'name': 'DecisionTreeClassifier',\n",
    "        'clf': DecisionTreeClassifier()\n",
    "    },\n",
    "#     {\n",
    "#         'name': 'MLPClassifier',\n",
    "#         'clf': MLPClassifier(verbose=True, early_stopping=True)\n",
    "#     }\n",
    "]\n",
    "\n",
    "vectorizers = [\n",
    "    {\n",
    "        'name': 'Булевские вектора',\n",
    "        'vect': CountVectorizer(max_features=2000, binary=True)\n",
    "    },\n",
    "    {\n",
    "        'name': 'Частотные вектора',\n",
    "        'vect': CountVectorizer(max_features=2000)\n",
    "    },\n",
    "    {\n",
    "        'name': 'Норм. частотные вектора',\n",
    "        'vect': TfidfVectorizer(max_features=2000, use_idf=False)\n",
    "    },\n",
    "    {\n",
    "        'name': 'TF_IDF',\n",
    "        'vect': TfidfVectorizer(max_features=2000, use_idf=True)\n",
    "    }    \n",
    "]\n",
    "\n",
    "chart_data = test(clfs, vectorizers)"
   ]
  },
  {
   "cell_type": "code",
   "execution_count": 41,
   "metadata": {},
   "outputs": [
    {
     "data": {
      "text/plain": [
       "'{\"data\": {\"labels\": [\"Булевские вектора\", \"Частотные вектора\", \"Норм. частотные вектора\", \"TF_IDF\"], \"datasets\": [{\"label\": \"MultinomialNB\", \"data\": [0.3288839334788854, 0.33045651972277734, 0.15974806410660744, 0.17473313232732993], \"backgroundColor\": \"#109618\"}, {\"label\": \"GaussianNB\", \"data\": [0.17520470595590687, 0.17491302175883935, 0.1760427391292487, 0.17288566961239682], \"backgroundColor\": \"#FF9900\"}, {\"label\": \"LinearSVC\", \"data\": [0.5035702549322448, 0.5047294207260998, 0.4570574077126232, 0.4662173066884136], \"backgroundColor\": \"#3366CC\"}, {\"label\": \"GradientBoostingClassifier\", \"data\": [0.528580058221393, 0.5053061460499303, 0.417690964941767, 0.42427353218407343], \"backgroundColor\": \"#DC3912\"}, {\"label\": \"RandomForestClassifier\", \"data\": [0.3250845511387415, 0.3347062158537568, 0.2803789771635122, 0.2846638777675274], \"backgroundColor\": \"#0099C6\"}, {\"label\": \"AdaBoostClassifier\", \"data\": [0.5287385051847129, 0.5300494717023417, 0.4973329680476826, 0.4932809132803632], \"backgroundColor\": \"#DD4477\"}, {\"label\": \"DecisionTreeClassifier\", \"data\": [0.5180517961477634, 0.4986624873209851, 0.4489664462307626, 0.4573564613202894], \"backgroundColor\": \"#AAAA11\"}]}, \"options\": {\"title\": {\"text\": \"Классификаторы аспектов\", \"display\": true, \"fontSize\": 18}, \"scales\": {\"yAxes\": [{\"scaleLabel\": {\"display\": true, \"labelString\": \"F1 macro\"}}]}, \"responsive\": true}}'"
      ]
     },
     "execution_count": 41,
     "metadata": {},
     "output_type": "execute_result"
    }
   ],
   "source": [
    "import json\n",
    "json.dumps(chart_data, ensure_ascii=False)"
   ]
  },
  {
   "cell_type": "markdown",
   "metadata": {},
   "source": [
    "# Исследование: удаление стоп слов"
   ]
  },
  {
   "cell_type": "code",
   "execution_count": 42,
   "metadata": {
    "collapsed": true
   },
   "outputs": [],
   "source": [
    "## STOP_WORDS\n",
    "\n",
    "# TEST 1\n",
    "STOP_WORDS_1 = stopwords.words('russian')\n",
    "\n",
    "# TEST 2\n",
    "STOP_WORDS_2 = stopwords.words('russian')\n",
    "STOP_WORDS_2.extend(['что', 'это', 'так', 'вот', 'быть', 'как', 'в', '—', 'к', 'на'])\n",
    "\n",
    "# TEST 3\n",
    "STOP_WORDS_3 = get_stop_words('ru')"
   ]
  },
  {
   "cell_type": "code",
   "execution_count": 43,
   "metadata": {},
   "outputs": [
    {
     "data": {
      "application/vnd.jupyter.widget-view+json": {
       "model_id": "6a9bdd563970487ca21d2311234bc205",
       "version_major": 2,
       "version_minor": 0
      },
      "text/html": [
       "<p>Failed to display Jupyter Widget of type <code>HBox</code>.</p>\n",
       "<p>\n",
       "  If you're reading this message in the Jupyter Notebook or JupyterLab Notebook, it may mean\n",
       "  that the widgets JavaScript is still loading. If this message persists, it\n",
       "  likely means that the widgets JavaScript library is either not installed or\n",
       "  not enabled. See the <a href=\"https://ipywidgets.readthedocs.io/en/stable/user_install.html\">Jupyter\n",
       "  Widgets Documentation</a> for setup instructions.\n",
       "</p>\n",
       "<p>\n",
       "  If you're reading this message in another frontend (for example, a static\n",
       "  rendering on GitHub or <a href=\"https://nbviewer.jupyter.org/\">NBViewer</a>),\n",
       "  it may mean that your frontend doesn't currently support widgets.\n",
       "</p>\n"
      ],
      "text/plain": [
       "HBox(children=(IntProgress(value=1, bar_style='info', max=1), HTML(value='')))"
      ]
     },
     "metadata": {},
     "output_type": "display_data"
    },
    {
     "name": "stdout",
     "output_type": "stream",
     "text": [
      "\n"
     ]
    }
   ],
   "source": [
    "clfs = [\n",
    "    {\n",
    "        'name': 'LinearSVC',\n",
    "        'clf': LinearSVC(C=2)\n",
    "    },\n",
    "    {\n",
    "        'name': 'AdaBoostClassifier',\n",
    "        'clf': AdaBoostClassifier()\n",
    "    },\n",
    "    {\n",
    "        'name': 'DecisionTreeClassifier',\n",
    "        'clf': DecisionTreeClassifier()\n",
    "    },\n",
    "]\n",
    "\n",
    "vectorizers = [\n",
    "    {\n",
    "        'name': 'Исходный текст',\n",
    "        'vect': CountVectorizer(max_features=2000)\n",
    "    },\n",
    "    {\n",
    "        'name': 'Стоп-слова nltk',\n",
    "        'vect': CountVectorizer(max_features=2000, stop_words=STOP_WORDS_1)\n",
    "    },\n",
    "    {\n",
    "        'name': 'Стоп-слова nltk + доп.',\n",
    "        'vect': CountVectorizer(max_features=2000, stop_words=STOP_WORDS_2)\n",
    "    },\n",
    "    {\n",
    "        'name': 'Стоп-слова many-stop-words',\n",
    "        'vect': CountVectorizer(max_features=2000, stop_words=STOP_WORDS_3)\n",
    "    },\n",
    "]\n",
    "\n",
    "colors = [\n",
    "    '#3366CC', '#DD4477', '#AAAA11'\n",
    "]\n",
    "chart_data = test(clfs, vectorizers)"
   ]
  },
  {
   "cell_type": "code",
   "execution_count": 44,
   "metadata": {},
   "outputs": [
    {
     "data": {
      "text/plain": [
       "'{\"data\": {\"labels\": [\"Исходный текст\", \"Стоп-слова nltk\", \"Стоп-слова nltk + доп.\", \"Стоп-слова many-stop-words\"], \"datasets\": [{\"label\": \"LinearSVC\", \"data\": [0.5047294207260998, 0.5445120732211344, 0.5342383881144155, 0.5471825506900484], \"backgroundColor\": \"#3366CC\"}, {\"label\": \"AdaBoostClassifier\", \"data\": [0.5300494717023417, 0.4905900513891887, 0.4937403562345792, 0.472714212701198], \"backgroundColor\": \"#DD4477\"}, {\"label\": \"DecisionTreeClassifier\", \"data\": [0.5004411474030982, 0.5272488526428413, 0.5384638417837196, 0.5386589288660005], \"backgroundColor\": \"#AAAA11\"}]}, \"options\": {\"title\": {\"text\": \"Классификаторы аспектов\", \"display\": true, \"fontSize\": 18}, \"scales\": {\"yAxes\": [{\"scaleLabel\": {\"display\": true, \"labelString\": \"F1 macro\"}}]}, \"responsive\": true}}'"
      ]
     },
     "execution_count": 44,
     "metadata": {},
     "output_type": "execute_result"
    }
   ],
   "source": [
    "json.dumps(chart_data, ensure_ascii=False)"
   ]
  },
  {
   "cell_type": "code",
   "execution_count": 45,
   "metadata": {
    "collapsed": true
   },
   "outputs": [],
   "source": [
    "from pprint import pprint "
   ]
  },
  {
   "cell_type": "code",
   "execution_count": 17,
   "metadata": {},
   "outputs": [
    {
     "name": "stdout",
     "output_type": "stream",
     "text": [
      "{'data': {'datasets': [{'backgroundColor': '#3366CC',\n",
      "                        'data': [0.4936583867068472,\n",
      "                                 0.5405516282314086,\n",
      "                                 0.5390008061921042,\n",
      "                                 0.5553944670725142],\n",
      "                        'label': 'LinearSVC'},\n",
      "                       {'backgroundColor': '#DD4477',\n",
      "                        'data': [0.532457414975359,\n",
      "                                 0.47105683686236594,\n",
      "                                 0.47458368198815326,\n",
      "                                 0.4356172763738108],\n",
      "                        'label': 'AdaBoostClassifier'},\n",
      "                       {'backgroundColor': '#AAAA11',\n",
      "                        'data': [0.5017004147390782,\n",
      "                                 0.46118093896262113,\n",
      "                                 0.47384261020376517,\n",
      "                                 0.49695213435482993],\n",
      "                        'label': 'DecisionTreeClassifier'}],\n",
      "          'labels': ['Исходный текст',\n",
      "                     'Стоп-слова nltk',\n",
      "                     'Стоп-слова nltk + доп.',\n",
      "                     'Стоп-слова many-stop-words']},\n",
      " 'options': {'responsive': True,\n",
      "             'scales': {'yAxes': [{'scaleLabel': {'display': True,\n",
      "                                                  'labelString': 'F1 macro'}}]},\n",
      "             'title': {'display': True,\n",
      "                       'fontSize': 18,\n",
      "                       'text': 'Классификаторы аспектов'}}}\n"
     ]
    }
   ],
   "source": [
    "pprint(chart_data)"
   ]
  },
  {
   "cell_type": "code",
   "execution_count": 49,
   "metadata": {},
   "outputs": [
    {
     "data": {
      "text/plain": [
       "'{\"data\": {\"datasets\": [{\"backgroundColor\": \"#3366CC\", \"data\": [0.6953, 0.6693, 0.6483]}]}, \"labels\": [\"LSTM + комбинирование классификаторов\", \"LSTM\", \"Best Semeval 2016\"], \"options\": {\"responsive\": true, \"scales\": {\"yAxes\": [{\"scaleLabel\": {\"display\": true, \"labelString\": \"F1 macro\"}}]}, \"title\": {\"display\": true, \"fontSize\": 18, \"text\": \"Классификаторы аспектов\"}}}'"
      ]
     },
     "execution_count": 49,
     "metadata": {},
     "output_type": "execute_result"
    }
   ],
   "source": [
    "ch_data = {'data': {'datasets': [\n",
    "                        {'backgroundColor': '#3366CC',\n",
    "                        'data': [0.6953, 0.6693, 0.6483],\n",
    "                        },\n",
    "                       ],\n",
    "                 },\n",
    "           'labels': [\n",
    "               'LSTM + комбинирование классификаторов',\n",
    "               'LSTM',\n",
    "               'Best Semeval 2016',\n",
    "           ],\n",
    " 'options': {'responsive': True,\n",
    "             'scales': {'yAxes': [{'scaleLabel': {'display': True,\n",
    "                                                  'labelString': 'F1 macro'}}]},\n",
    "             'title': {'display': True,\n",
    "                       'fontSize': 18,\n",
    "                       'text': 'Классификаторы аспектов'}}}\n",
    "\n",
    "json.dumps(ch_data, ensure_ascii=False)"
   ]
  },
  {
   "cell_type": "code",
   "execution_count": null,
   "metadata": {
    "collapsed": true
   },
   "outputs": [],
   "source": []
  },
  {
   "cell_type": "code",
   "execution_count": null,
   "metadata": {
    "collapsed": true
   },
   "outputs": [],
   "source": []
  },
  {
   "cell_type": "code",
   "execution_count": 7,
   "metadata": {},
   "outputs": [
    {
     "ename": "NameError",
     "evalue": "name 'result' is not defined",
     "output_type": "error",
     "traceback": [
      "\u001b[0;31m---------------------------------------------------------------------------\u001b[0m",
      "\u001b[0;31mNameError\u001b[0m                                 Traceback (most recent call last)",
      "\u001b[0;32m<ipython-input-7-bfb8db4c4482>\u001b[0m in \u001b[0;36m<module>\u001b[0;34m()\u001b[0m\n\u001b[0;32m----> 1\u001b[0;31m \u001b[0mresult\u001b[0m\u001b[0;34m.\u001b[0m\u001b[0mstyle\u001b[0m\u001b[0;34m.\u001b[0m\u001b[0mbar\u001b[0m\u001b[0;34m(\u001b[0m\u001b[0msubset\u001b[0m\u001b[0;34m=\u001b[0m\u001b[0;34m[\u001b[0m\u001b[0;34m'Precision'\u001b[0m\u001b[0;34m,\u001b[0m \u001b[0;34m'Recall'\u001b[0m\u001b[0;34m,\u001b[0m \u001b[0;34m'F1-score'\u001b[0m\u001b[0;34m]\u001b[0m\u001b[0;34m,\u001b[0m \u001b[0mcolor\u001b[0m\u001b[0;34m=\u001b[0m\u001b[0;34m'#5fba7d'\u001b[0m\u001b[0;34m)\u001b[0m\u001b[0;34m.\u001b[0m\u001b[0mformat\u001b[0m\u001b[0;34m(\u001b[0m\u001b[0;34m\"{:.2}\"\u001b[0m\u001b[0;34m,\u001b[0m \u001b[0msubset\u001b[0m\u001b[0;34m=\u001b[0m\u001b[0;34m[\u001b[0m\u001b[0;34m'Precision'\u001b[0m\u001b[0;34m,\u001b[0m \u001b[0;34m'Recall'\u001b[0m\u001b[0;34m,\u001b[0m \u001b[0;34m'F1-score'\u001b[0m\u001b[0;34m]\u001b[0m\u001b[0;34m,\u001b[0m \u001b[0;34m)\u001b[0m\u001b[0;34m\u001b[0m\u001b[0m\n\u001b[0m",
      "\u001b[0;31mNameError\u001b[0m: name 'result' is not defined"
     ]
    }
   ],
   "source": [
    "result.style.bar(subset=['Precision', 'Recall', 'F1-score'], color='#5fba7d').format(\"{:.2}\", subset=['Precision', 'Recall', 'F1-score'], )"
   ]
  },
  {
   "cell_type": "code",
   "execution_count": null,
   "metadata": {
    "collapsed": true
   },
   "outputs": [],
   "source": [
    "F1_macro = np.mean(result['F1-score'])\n",
    "F1_macro"
   ]
  },
  {
   "cell_type": "code",
   "execution_count": null,
   "metadata": {
    "collapsed": true
   },
   "outputs": [],
   "source": []
  },
  {
   "cell_type": "code",
   "execution_count": null,
   "metadata": {
    "collapsed": true
   },
   "outputs": [],
   "source": [
    "chart_data = {\n",
    "        'data': {\n",
    "            'labels': [vectorizer['name'] for vectorizer in vectorizers],\n",
    "            'datasets': []\n",
    "        },\n",
    "        'options': {\n",
    "            'title': {\n",
    "                'text': \"Классификаторы аспектов\",\n",
    "                'display': True,\n",
    "                'fontSize': 18\n",
    "            },\n",
    "            'scales': {\n",
    "                'yAxes': [{\n",
    "                    'scaleLabel': {\n",
    "                        'display': True,\n",
    "                        'labelString': 'F1 macro'\n",
    "                    }\n",
    "                }]\n",
    "            },\n",
    "            'responsive': True\n",
    "        }\n",
    "    }"
   ]
  }
 ],
 "metadata": {
  "kernelspec": {
   "display_name": "Django Shell-Plus",
   "language": "python",
   "name": "django_extensions"
  },
  "language_info": {
   "codemirror_mode": {
    "name": "ipython",
    "version": 3
   },
   "file_extension": ".py",
   "mimetype": "text/x-python",
   "name": "python",
   "nbconvert_exporter": "python",
   "pygments_lexer": "ipython3",
   "version": "3.6.2"
  }
 },
 "nbformat": 4,
 "nbformat_minor": 2
}
