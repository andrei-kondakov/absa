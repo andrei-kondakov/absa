{
 "cells": [
  {
   "cell_type": "code",
   "execution_count": 10,
   "metadata": {},
   "outputs": [],
   "source": [
    "import numpy as np\n",
    "\n",
    "from keras.models import Sequential\n",
    "from keras.layers import Embedding, Dense\n",
    "from keras.layers.recurrent import LSTM\n",
    "\n",
    "from data.models import SentenceBatch, Task\n",
    "from keras_ml.models import Model, TrainSession\n",
    "from word_embeddings.utils import load_w2v_model\n",
    "from keras import backend as K\n",
    "\n",
    "from tqdm import tqdm_notebook\n",
    "import itertools\n",
    "\n",
    "from django.db.models import Max"
   ]
  },
  {
   "cell_type": "code",
   "execution_count": 28,
   "metadata": {},
   "outputs": [
    {
     "data": {
      "text/plain": [
       "<QuerySet [2722, 2099, 2100]>"
      ]
     },
     "execution_count": 28,
     "metadata": {},
     "output_type": "execute_result"
    }
   ],
   "source": [
    "s_ids = TrainSession.objects.filter(\n",
    "    batch__task=2\n",
    ").values(\n",
    "    'model_id'\n",
    ").annotate(\n",
    "    f1_score=Max('f1_score')\n",
    ").order_by('-f1_score').values_list('id', flat=True)[:3]\n",
    "s_ids"
   ]
  },
  {
   "cell_type": "code",
   "execution_count": 29,
   "metadata": {},
   "outputs": [
    {
     "data": {
      "text/plain": [
       "<QuerySet [<TrainSession: #2722, 29, Aspect detection, entity: DRINKS, attribute: PRICES>, <TrainSession: #2099, 1, Aspect detection, entity: DRINKS, attribute: PRICES>, <TrainSession: #2100, 1, Aspect detection, entity: DRINKS, attribute: PRICES>]>"
      ]
     },
     "execution_count": 29,
     "metadata": {},
     "output_type": "execute_result"
    }
   ],
   "source": [
    "TrainSession.objects.filter(id__in=s_ids)"
   ]
  },
  {
   "cell_type": "code",
   "execution_count": 7,
   "metadata": {},
   "outputs": [
    {
     "data": {
      "text/plain": [
       "0.850439882697947"
      ]
     },
     "execution_count": 7,
     "metadata": {},
     "output_type": "execute_result"
    }
   ],
   "source": [
    "sessions[0].f1_score"
   ]
  },
  {
   "cell_type": "code",
   "execution_count": 38,
   "metadata": {},
   "outputs": [],
   "source": [
    "runs = 10"
   ]
  },
  {
   "cell_type": "code",
   "execution_count": 39,
   "metadata": {},
   "outputs": [
    {
     "data": {
      "application/vnd.jupyter.widget-view+json": {
       "model_id": "ef5db15f905f4743820e1f70fcf19549",
       "version_major": 2,
       "version_minor": 0
      },
      "text/html": [
       "<p>Failed to display Jupyter Widget of type <code>HBox</code>.</p>\n",
       "<p>\n",
       "  If you're reading this message in the Jupyter Notebook or JupyterLab Notebook, it may mean\n",
       "  that the widgets JavaScript is still loading. If this message persists, it\n",
       "  likely means that the widgets JavaScript library is either not installed or\n",
       "  not enabled. See the <a href=\"https://ipywidgets.readthedocs.io/en/stable/user_install.html\">Jupyter\n",
       "  Widgets Documentation</a> for setup instructions.\n",
       "</p>\n",
       "<p>\n",
       "  If you're reading this message in another frontend (for example, a static\n",
       "  rendering on GitHub or <a href=\"https://nbviewer.jupyter.org/\">NBViewer</a>),\n",
       "  it may mean that your frontend doesn't currently support widgets.\n",
       "</p>\n"
      ],
      "text/plain": [
       "HBox(children=(IntProgress(value=0, max=22), HTML(value='')))"
      ]
     },
     "metadata": {},
     "output_type": "display_data"
    },
    {
     "name": "stdout",
     "output_type": "stream",
     "text": [
      "\n"
     ]
    }
   ],
   "source": [
    "for task in tqdm_notebook(Task.objects.all()):\n",
    "    best_session_ids = TrainSession.objects.filter(\n",
    "        batch__task=task\n",
    "    ).values(\n",
    "        'model_id'\n",
    "    ).annotate(\n",
    "        f1_score=Max('f1_score')\n",
    "    ).order_by('-f1_score').values_list('id')[:3]\n",
    "    \n",
    "    sessions = TrainSession.objects.filter(id__in=best_session_ids)\n",
    "    \n",
    "    for session in sessions:\n",
    "        for _ in range(runs):\n",
    "            TrainSession.objects.create(\n",
    "                model=session.model,\n",
    "                batch=session.batch,\n",
    "                train_opts=session.train_opts\n",
    "            )"
   ]
  },
  {
   "cell_type": "code",
   "execution_count": 40,
   "metadata": {},
   "outputs": [
    {
     "data": {
      "text/plain": [
       "(660, {'keras_ml.TrainSession': 660})"
      ]
     },
     "execution_count": 40,
     "metadata": {},
     "output_type": "execute_result"
    }
   ],
   "source": [
    "TrainSession.objects.filter(f1_score__isnull=True).delete()"
   ]
  },
  {
   "cell_type": "code",
   "execution_count": null,
   "metadata": {},
   "outputs": [],
   "source": [
    "for batch in tqdm_notebook(SentenceBatch.objects.filter(task__type=Task.Type.ASPECT_DETECTION)):\n",
    "    for _ in range(runs):\n",
    "        TrainSession.objects.create(\n",
    "            model=keras_model,\n",
    "            batch=batch,\n",
    "            train_opts=train_opts\n",
    "        )"
   ]
  },
  {
   "cell_type": "code",
   "execution_count": null,
   "metadata": {},
   "outputs": [],
   "source": [
    "Model.objects.count()"
   ]
  },
  {
   "cell_type": "code",
   "execution_count": null,
   "metadata": {},
   "outputs": [],
   "source": [
    "activations = ['softmax', 'elu', 'selu', 'softplus', 'softsign', 'relu', 'tanh', 'sigmoid', 'hard_sigmoid', 'linear']\n",
    "activation_pairs = []\n",
    "for activation, recurrent_activation in tqdm_notebook(itertools.product(activations, repeat=2)):\n",
    "    K.clear_session()\n",
    "    # Create model\n",
    "    embedding_layer = Embedding(\n",
    "    input_dim=len(w2v_model.wv.vocab),\n",
    "    output_dim=w2v_model.vector_size,\n",
    "    input_length=len(batch.x_train[0]),\n",
    "    mask_zero=True\n",
    "    )\n",
    "\n",
    "    lstm_layer = LSTM(\n",
    "        units=200,\n",
    "        activation=activation,\n",
    "        recurrent_activation=recurrent_activation\n",
    "    )\n",
    "    dense_layer = Dense(1, activation='sigmoid')\n",
    "\n",
    "    model = Sequential()\n",
    "    model.add(embedding_layer)\n",
    "    model.add(lstm_layer)\n",
    "    model.add(dense_layer)\n",
    "\n",
    "    config = model.get_config()\n",
    "    compile_opts = dict(\n",
    "        loss='binary_crossentropy',\n",
    "        optimizer='adam',\n",
    "        metrics=['accuracy']\n",
    "    )\n",
    "    train_opts = dict(\n",
    "        epochs=10,\n",
    "        validation_split=0.1,\n",
    "        batch_size=128\n",
    "    )\n",
    "    \n",
    "    keras_model, _ = Model.objects.get_or_create(\n",
    "        config=model.get_config(),\n",
    "        compile_opts=compile_opts\n",
    "    )\n"
   ]
  },
  {
   "cell_type": "code",
   "execution_count": null,
   "metadata": {},
   "outputs": [],
   "source": [
    "for model in tqdm_notebook(Model.objects.all()):\n",
    "    for batch in SentenceBatch.objects.filter(task__type=Task.Type.ASPECT_DETECTION):\n",
    "        TrainSession.objects.create(\n",
    "            model=model,\n",
    "            batch=batch,\n",
    "            train_opts=train_opts\n",
    "        )"
   ]
  },
  {
   "cell_type": "code",
   "execution_count": null,
   "metadata": {},
   "outputs": [],
   "source": []
  },
  {
   "cell_type": "code",
   "execution_count": null,
   "metadata": {},
   "outputs": [],
   "source": [
    "# POLARITY DETECTION"
   ]
  },
  {
   "cell_type": "code",
   "execution_count": 10,
   "metadata": {},
   "outputs": [
    {
     "data": {
      "application/vnd.jupyter.widget-view+json": {
       "model_id": "f366cb5aba564d4eafd33fe04cd3bfae",
       "version_major": 2,
       "version_minor": 0
      },
      "text/html": [
       "<p>Failed to display Jupyter Widget of type <code>HBox</code>.</p>\n",
       "<p>\n",
       "  If you're reading this message in the Jupyter Notebook or JupyterLab Notebook, it may mean\n",
       "  that the widgets JavaScript is still loading. If this message persists, it\n",
       "  likely means that the widgets JavaScript library is either not installed or\n",
       "  not enabled. See the <a href=\"https://ipywidgets.readthedocs.io/en/stable/user_install.html\">Jupyter\n",
       "  Widgets Documentation</a> for setup instructions.\n",
       "</p>\n",
       "<p>\n",
       "  If you're reading this message in another frontend (for example, a static\n",
       "  rendering on GitHub or <a href=\"https://nbviewer.jupyter.org/\">NBViewer</a>),\n",
       "  it may mean that your frontend doesn't currently support widgets.\n",
       "</p>\n"
      ],
      "text/plain": [
       "HBox(children=(IntProgress(value=0, max=3), HTML(value='')))"
      ]
     },
     "metadata": {},
     "output_type": "display_data"
    },
    {
     "name": "stdout",
     "output_type": "stream",
     "text": [
      "\n"
     ]
    }
   ],
   "source": [
    "for batch in tqdm_notebook(SentenceBatch.objects.filter(task__type=Task.Type.POLARITY_DETECTION)):\n",
    "    for _ in range(1):\n",
    "        TrainSession.objects.create(\n",
    "            model=keras_model,\n",
    "            batch=batch,\n",
    "            train_opts=train_opts\n",
    "        )"
   ]
  },
  {
   "cell_type": "code",
   "execution_count": null,
   "metadata": {},
   "outputs": [],
   "source": []
  }
 ],
 "metadata": {
  "kernelspec": {
   "display_name": "Django Shell-Plus",
   "language": "python",
   "name": "django_extensions"
  },
  "language_info": {
   "codemirror_mode": {
    "name": "ipython",
    "version": 3
   },
   "file_extension": ".py",
   "mimetype": "text/x-python",
   "name": "python",
   "nbconvert_exporter": "python",
   "pygments_lexer": "ipython3",
   "version": "3.6.4"
  }
 },
 "nbformat": 4,
 "nbformat_minor": 2
}
