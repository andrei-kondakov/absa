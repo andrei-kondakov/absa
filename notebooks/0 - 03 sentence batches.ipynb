{
 "cells": [
  {
   "cell_type": "code",
   "execution_count": 4,
   "metadata": {},
   "outputs": [],
   "source": [
    "import os \n",
    "from django.conf import settings\n",
    "from django.core.management import call_command\n",
    "from word_embeddings.models import Word2Vec\n",
    "from data.models import SentenceBatch, Task, TrainSentence, TestSentence\n",
    "from data.utils.preprocessing import Preprocessing\n",
    "from data.utils.processing import Processing\n",
    "from tqdm import tqdm_notebook\n",
    "\n",
    "from gensim.models.wrappers import FastText\n",
    "from gensim.models import KeyedVectors"
   ]
  },
  {
   "cell_type": "code",
   "execution_count": 2,
   "metadata": {},
   "outputs": [],
   "source": [
    "raw_data_dir = os.path.join(os.path.dirname(settings.BASE_DIR), 'raw_data')\n",
    "assert os.path.exists(raw_data_dir)\n",
    "if not TrainSentence.objects.count():\n",
    "    call_command('load_sentences', os.path.join(raw_data_dir, 'se16_ru_rest_train.xml'))\n",
    "if not TestSentence.objects.count():\n",
    "    call_command('load_sentences', os.path.join(raw_data_dir, 'se16_ru_rest_test.xml'))"
   ]
  },
  {
   "cell_type": "markdown",
   "metadata": {},
   "source": [
    "# FAST TEXT"
   ]
  },
  {
   "cell_type": "code",
   "execution_count": 3,
   "metadata": {},
   "outputs": [],
   "source": [
    "w2v_model = Word2Vec.objects.get(id=2)\n"
   ]
  },
  {
   "cell_type": "code",
   "execution_count": null,
   "metadata": {},
   "outputs": [],
   "source": [
    "fast_text = FastText.load_fasttext_format(w2v_model.file.path)"
   ]
  },
  {
   "cell_type": "code",
   "execution_count": null,
   "metadata": {},
   "outputs": [],
   "source": [
    "fast_text.most_similar('пиво')"
   ]
  },
  {
   "cell_type": "code",
   "execution_count": 5,
   "metadata": {},
   "outputs": [],
   "source": [
    "model = KeyedVectors.load_word2vec_format('/Users/andrei/Downloads/wiki.ru/wiki.ru.vec')"
   ]
  },
  {
   "cell_type": "code",
   "execution_count": 20,
   "metadata": {},
   "outputs": [
    {
     "data": {
      "text/plain": [
       "[('обслуживание\\xa0—', 0.8725684285163879),\n",
       " ('медобслуживание', 0.8570499420166016),\n",
       " ('обслуживание»', 0.8405522704124451),\n",
       " ('техобслуживание', 0.8302351832389832),\n",
       " ('обслуживаний', 0.7906952500343323),\n",
       " ('обслуживанием', 0.774075448513031),\n",
       " ('обслуживания', 0.7729679942131042),\n",
       " ('обслуживания…', 0.7633925080299377),\n",
       " ('обслуживания\\xa0—', 0.7526903748512268),\n",
       " ('обслуживания,', 0.7517712116241455),\n",
       " ('обслуживанию', 0.7498734593391418),\n",
       " ('обслуживания»', 0.7410985231399536),\n",
       " ('обслуживании»', 0.7370441555976868),\n",
       " ('обслуживании\\xa0—', 0.7310150861740112),\n",
       " ('медобслуживания', 0.7306712865829468),\n",
       " ('самообслуживание', 0.727219820022583),\n",
       " ('обслуживании', 0.7236009240150452),\n",
       " ('сервисное', 0.721953272819519),\n",
       " ('техобслуживанием', 0.7078423500061035),\n",
       " ('обслуживанию\\xa0—', 0.7047327160835266),\n",
       " ('техобслуживания', 0.6994536519050598),\n",
       " ('спецобслуживания', 0.6965265870094299),\n",
       " ('медоборудование', 0.695289671421051),\n",
       " ('техобслуживанию', 0.6801865100860596),\n",
       " ('обслуживающее', 0.670371413230896),\n",
       " ('обслуживая', 0.6596778631210327),\n",
       " ('техобслуживании', 0.6593449115753174),\n",
       " ('дооборудование', 0.6456860899925232),\n",
       " ('обслуживающих', 0.642681360244751),\n",
       " ('обслужит', 0.6422871351242065),\n",
       " ('резервирование', 0.6420126557350159),\n",
       " ('обслуживающего', 0.6406171917915344),\n",
       " ('обслуживалось', 0.6374768018722534),\n",
       " ('фотооборудование', 0.6361283659934998),\n",
       " ('обслужить', 0.6318464279174805),\n",
       " ('#оборудование', 0.6296518445014954),\n",
       " ('обеспечивание', 0.6294329762458801),\n",
       " ('обслуживавшее', 0.6269417405128479),\n",
       " ('обслуживало', 0.6267220377922058),\n",
       " ('самообслуживанием', 0.6246308088302612),\n",
       " ('обслуживающихся', 0.6244408488273621),\n",
       " ('обслуживаемое', 0.6237297654151917),\n",
       " ('обслужив', 0.6236198544502258),\n",
       " ('субсидирование', 0.622756838798523),\n",
       " ('дотирование', 0.6211939454078674),\n",
       " ('необеспечение', 0.6196085214614868),\n",
       " ('инфраструктурное', 0.6184370517730713),\n",
       " ('обслужили', 0.6179822087287903),\n",
       " ('самообслуживания', 0.6178151965141296),\n",
       " ('переоснащение', 0.6172146797180176),\n",
       " ('перепрофилирование', 0.6165139675140381),\n",
       " ('спецоборудование', 0.6163212060928345),\n",
       " ('обслужен', 0.61628258228302),\n",
       " ('обслужил', 0.6154285073280334),\n",
       " ('обслужила', 0.6143864393234253),\n",
       " ('аудиооборудование', 0.6117774844169617),\n",
       " ('оборудование,', 0.61026930809021),\n",
       " ('обслуживавших', 0.6102299690246582),\n",
       " ('метеообеспечение', 0.6100746989250183),\n",
       " ('обслуживающей', 0.6098511219024658),\n",
       " ('агентирование', 0.6086342930793762),\n",
       " ('обслуживающие', 0.6083606481552124),\n",
       " ('оборудование\\xa0—', 0.6070339679718018),\n",
       " ('•ведение', 0.6068176031112671),\n",
       " ('авиаснабжение', 0.6066064238548279),\n",
       " ('планирование', 0.6041103005409241),\n",
       " ('обслужено', 0.6010663509368896),\n",
       " ('металлоснабжение', 0.6008239984512329),\n",
       " ('оснащение', 0.6006723642349243),\n",
       " ('обслуживаться', 0.6002622842788696),\n",
       " ('обслуженных', 0.5996623039245605),\n",
       " ('транспортирование', 0.5972285270690918),\n",
       " ('самообслуживанию', 0.5972254872322083),\n",
       " ('акционирование', 0.5967390537261963),\n",
       " ('услуг', 0.596053421497345),\n",
       " ('бесперебойное', 0.5959519147872925),\n",
       " ('кондиционирование', 0.5953822731971741),\n",
       " ('фрахтование', 0.5950207710266113),\n",
       " ('энергообеспечение', 0.5946935415267944),\n",
       " ('радиооборудование', 0.5937355160713196),\n",
       " ('макетирование', 0.593335747718811),\n",
       " ('слаживание', 0.5926470756530762),\n",
       " ('снабжение', 0.5925878286361694),\n",
       " ('обслужены', 0.5925430655479431),\n",
       " ('дооснащение', 0.5925124883651733),\n",
       " ('обслуживаемых', 0.5921453237533569),\n",
       " ('сервисных', 0.5914894342422485),\n",
       " ('сервисно', 0.5913183093070984),\n",
       " ('секционирование', 0.5909563302993774),\n",
       " ('кредитование', 0.5909122228622437),\n",
       " ('послегарантийное', 0.590878427028656),\n",
       " ('электрообеспечение', 0.5906594395637512),\n",
       " ('обслуживаемого', 0.5906321406364441),\n",
       " ('брендирование', 0.5898341536521912),\n",
       " ('комплектование', 0.5897647142410278),\n",
       " ('переоборудование', 0.5894346833229065),\n",
       " ('обслуживает»', 0.5892149806022644),\n",
       " ('обслуживающая', 0.5891944766044617),\n",
       " ('резервирование\\xa0—', 0.5886989235877991),\n",
       " ('энергоснабжение', 0.588413655757904)]"
      ]
     },
     "execution_count": 20,
     "metadata": {},
     "output_type": "execute_result"
    }
   ],
   "source": [
    "model.most_similar('обслуживание', topn=100)"
   ]
  },
  {
   "cell_type": "code",
   "execution_count": null,
   "metadata": {},
   "outputs": [],
   "source": [
    "preprocessing = sentence_batch.preprocessing\n",
    "processing = sentence_batch.processing\n",
    "task = sentence_batch.task\n",
    "\n",
    "if processing == Processing.NO_PROCESSING:\n",
    "    return sentence_batch\n",
    "\n",
    "if task.type == Task.Type.ASPECT_DETECTION:\n",
    "    if processing == Processing.W2V_INDEXES_1:\n",
    "        entity = task.aspect_entity or ''\n",
    "        attribute = task.aspect_attribute or ''\n",
    "\n",
    "        category = f'{entity.upper()}#{attribute.upper()}'\n",
    "\n",
    "        train_sentences = TrainSentence.objects.filter(\n",
    "            out_of_scope=False\n",
    "        )\n",
    "\n",
    "        test_sentences = TestSentence.objects.filter(\n",
    "            out_of_scope=False\n",
    "        )\n",
    "\n",
    "        if not len(train_sentences) or not len(test_sentences):\n",
    "            raise ValueError('You should loaded datasets')\n",
    "\n",
    "        x_train_raw = [x.text for x in train_sentences]\n",
    "        x_train_preproc = preprocess(x_train_raw, preprocessing)\n",
    "        y_train_raw = [','.join(x.categories) for x in train_sentences]\n",
    "        x_train = word2vec_indexes_v1(sentence_batch.w2v_model, x_train_preproc)\n",
    "        y_train = get_ys(train_sentences, category)\n",
    "\n",
    "        x_test_raw = [x.text for x in test_sentences]\n",
    "        x_test_preproc = preprocess(x_test_raw, preprocessing)\n",
    "        y_test_raw = [','.join(x.categories) for x in test_sentences]\n",
    "        x_test = word2vec_indexes_v1(sentence_batch.w2v_model, x_test_preproc)\n",
    "        y_test = get_ys(test_sentences, category)\n",
    "\n",
    "        sentence_batch.x_train_raw = x_train_raw\n",
    "        sentence_batch.x_train_preproc = x_train_preproc\n",
    "        sentence_batch.y_train_raw = y_train_raw\n",
    "        sentence_batch.x_train = x_train\n",
    "        sentence_batch.y_train = y_train\n",
    "\n",
    "        sentence_batch.x_test_raw = x_test_raw\n",
    "        sentence_batch.x_test_preproc = x_test_preproc\n",
    "        sentence_batch.y_test_raw = y_test_raw\n",
    "        sentence_batch.x_test = x_test\n",
    "        sentence_batch.y_test = y_test\n",
    "        return sentence_batch"
   ]
  },
  {
   "cell_type": "code",
   "execution_count": null,
   "metadata": {},
   "outputs": [],
   "source": []
  },
  {
   "cell_type": "code",
   "execution_count": null,
   "metadata": {},
   "outputs": [],
   "source": []
  }
 ],
 "metadata": {
  "kernelspec": {
   "display_name": "Django Shell-Plus",
   "language": "python",
   "name": "django_extensions"
  },
  "language_info": {
   "codemirror_mode": {
    "name": "ipython",
    "version": 3
   },
   "file_extension": ".py",
   "mimetype": "text/x-python",
   "name": "python",
   "nbconvert_exporter": "python",
   "pygments_lexer": "ipython3",
   "version": "3.6.4"
  }
 },
 "nbformat": 4,
 "nbformat_minor": 2
}
