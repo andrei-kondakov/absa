{
 "cells": [
  {
   "cell_type": "code",
   "execution_count": 31,
   "metadata": {},
   "outputs": [],
   "source": [
    "from sklearn.exceptions import UndefinedMetricWarning\n",
    "import warnings\n",
    "warnings.filterwarnings(action='ignore', category=UndefinedMetricWarning)\n",
    "\n",
    "\n",
    "import numpy as np\n",
    "import pandas as pd\n",
    "import json\n",
    "\n",
    "from sklearn import metrics\n",
    "from sklearn.svm import LinearSVC\n",
    "from sklearn.naive_bayes import MultinomialNB, GaussianNB\n",
    "from sklearn.tree import DecisionTreeClassifier\n",
    "from sklearn.ensemble import GradientBoostingClassifier, RandomForestClassifier, AdaBoostClassifier\n",
    "from sklearn.feature_extraction.text import CountVectorizer, TfidfVectorizer\n",
    "from sklearn.discriminant_analysis import QuadraticDiscriminantAnalysis\n",
    "from sklearn.neural_network import MLPClassifier\n",
    "\n",
    "from nltk.corpus import stopwords\n",
    "from many_stop_words import get_stop_words\n",
    "\n",
    "\n",
    "\n",
    "from tqdm import tqdm_notebook\n",
    "\n",
    "from data.utils.preprocessing import Preprocessing, preprocess\n",
    "from data.utils.processing import Processing\n"
   ]
  },
  {
   "cell_type": "code",
   "execution_count": 32,
   "metadata": {},
   "outputs": [
    {
     "data": {
      "application/vnd.jupyter.widget-view+json": {
       "model_id": "7d7ef4a716ad4deb928e9dff768f4a12",
       "version_major": 2,
       "version_minor": 0
      },
      "text/html": [
       "<p>Failed to display Jupyter Widget of type <code>HBox</code>.</p>\n",
       "<p>\n",
       "  If you're reading this message in the Jupyter Notebook or JupyterLab Notebook, it may mean\n",
       "  that the widgets JavaScript is still loading. If this message persists, it\n",
       "  likely means that the widgets JavaScript library is either not installed or\n",
       "  not enabled. See the <a href=\"https://ipywidgets.readthedocs.io/en/stable/user_install.html\">Jupyter\n",
       "  Widgets Documentation</a> for setup instructions.\n",
       "</p>\n",
       "<p>\n",
       "  If you're reading this message in another frontend (for example, a static\n",
       "  rendering on GitHub or <a href=\"https://nbviewer.jupyter.org/\">NBViewer</a>),\n",
       "  it may mean that your frontend doesn't currently support widgets.\n",
       "</p>\n"
      ],
      "text/plain": [
       "HBox(children=(IntProgress(value=1, bar_style='info', max=1), HTML(value='')))"
      ]
     },
     "metadata": {},
     "output_type": "display_data"
    },
    {
     "name": "stdout",
     "output_type": "stream",
     "text": [
      "\n"
     ]
    }
   ],
   "source": [
    "POLARITIES = [\n",
    "    'negative',\n",
    "    'neutral',\n",
    "    'positive'\n",
    "]\n",
    "preprocessing = Preprocessing.PREPROCESSING_1\n",
    "\n",
    "train_batch = {}\n",
    "test_batch = {}\n",
    "\n",
    "train_sentences = list(TrainSentence.objects.all())\n",
    "test_sentences = list(TestSentence.objects.all())\n",
    "\n",
    "def get_ys_polarity(sentences, target_polarity):\n",
    "    ys = []\n",
    "    for sentence in sentences:\n",
    "        if sentence.polarities:\n",
    "            y = int(target_polarity.upper() == sentence.polarities[0].upper())\n",
    "        else:\n",
    "            y = 0\n",
    "        ys.append(y)\n",
    "    return ys\n",
    "\n",
    "def get_sentence_batch(sentence_type, polarity):\n",
    "    sentences = train_sentences if sentence_type == 'train' else test_sentences\n",
    "    X_raw = [x.text for x in sentences]\n",
    "    X_preproc = preprocess(X_raw, preprocessing)\n",
    "    y = get_ys_polarity(sentences, polarity)\n",
    "    return X_preproc, y\n",
    "\n",
    "\n",
    "for idx, polarity in tqdm_notebook(enumerate(POLARITIES)):\n",
    "    train_batch[polarity] = get_sentence_batch('train', polarity)\n",
    "    test_batch[polarity]  = get_sentence_batch('test', polarity)\n"
   ]
  },
  {
   "cell_type": "markdown",
   "metadata": {},
   "source": [
    "# Исследование: выбор алгоритма классификации и способа векторизации"
   ]
  },
  {
   "cell_type": "code",
   "execution_count": 33,
   "metadata": {},
   "outputs": [],
   "source": [
    "colors = [\n",
    "    '#109618', '#FF9900', '#3366CC', '#DC3912', '#0099C6','#DD4477', '#AAAA11','#994499','#22AA99','#6633CC','#E67300','#8B0707','#329262','#5574A6','#3B3EAC'\n",
    "]"
   ]
  },
  {
   "cell_type": "code",
   "execution_count": 34,
   "metadata": {},
   "outputs": [],
   "source": [
    "def test(clfs, vectorizers):\n",
    "    chart_data = {\n",
    "        'data': {\n",
    "            'labels': [vectorizer['name'] for vectorizer in vectorizers],\n",
    "            'datasets': []\n",
    "        },\n",
    "        'options': {\n",
    "            'title': {\n",
    "                'text': \"Классификаторы тональностей\",\n",
    "                'display': True,\n",
    "                'fontSize': 18\n",
    "            },\n",
    "            'scales': {\n",
    "                'yAxes': [{\n",
    "                    'scaleLabel': {\n",
    "                        'display': True,\n",
    "                        'labelString': 'Accuracy'\n",
    "                    }\n",
    "                }]\n",
    "            },\n",
    "            'responsive': True\n",
    "        }\n",
    "    }\n",
    "    for i, clf in tqdm_notebook(enumerate(clfs)):\n",
    "        dataset = {\n",
    "            'label': clf['name'],\n",
    "            'data': [],\n",
    "            'backgroundColor': colors[i]\n",
    "        }\n",
    "        for vectroizer in vectorizers:\n",
    "            result = pd.DataFrame(columns=['Polarity', 'Precision', 'Recall', 'F1-score', 'Accuracy'])\n",
    "            for idx, polarity in enumerate(POLARITIES):\n",
    "                polarity_clf = clf['clf']\n",
    "                cv = vectroizer['vect']\n",
    "                X_train_raw, y_train = train_batch[polarity]\n",
    "                X_train = cv.fit_transform(X_train_raw)\n",
    "                if clf['name'] in ['GaussianNB', 'QuadraticDiscriminantAnalysis']:\n",
    "                    X_train = X_train.toarray()\n",
    "                polarity_clf.fit(X_train, y_train)\n",
    "\n",
    "                X_test_raw, y_test = test_batch[polarity]\n",
    "                X_test = cv.transform(X_test_raw)\n",
    "                if clf['name'] in ['GaussianNB', 'QuadraticDiscriminantAnalysis']:\n",
    "                    X_test = X_test.toarray()\n",
    "                y_pred = polarity_clf.predict(X_test)\n",
    "\n",
    "                precision, recall, f1_score, _ = metrics.precision_recall_fscore_support(y_true=y_test, y_pred=y_pred, beta=1, average='binary')\n",
    "                accuracy = metrics.accuracy_score(y_true=y_test, y_pred=y_pred)\n",
    "                result.loc[idx] = [polarity, precision, recall, f1_score, accuracy]\n",
    "\n",
    "            F1_macro = np.mean(result['F1-score'])\n",
    "            accuracy_macro = np.mean(result['Accuracy'])\n",
    "            dataset['data'].append(accuracy_macro)\n",
    "        chart_data['data']['datasets'].append(dataset)\n",
    "    return chart_data"
   ]
  },
  {
   "cell_type": "code",
   "execution_count": 35,
   "metadata": {},
   "outputs": [
    {
     "data": {
      "application/vnd.jupyter.widget-view+json": {
       "model_id": "b6ce3a0a3ecb4344a40326c5aa806f74",
       "version_major": 2,
       "version_minor": 0
      },
      "text/html": [
       "<p>Failed to display Jupyter Widget of type <code>HBox</code>.</p>\n",
       "<p>\n",
       "  If you're reading this message in the Jupyter Notebook or JupyterLab Notebook, it may mean\n",
       "  that the widgets JavaScript is still loading. If this message persists, it\n",
       "  likely means that the widgets JavaScript library is either not installed or\n",
       "  not enabled. See the <a href=\"https://ipywidgets.readthedocs.io/en/stable/user_install.html\">Jupyter\n",
       "  Widgets Documentation</a> for setup instructions.\n",
       "</p>\n",
       "<p>\n",
       "  If you're reading this message in another frontend (for example, a static\n",
       "  rendering on GitHub or <a href=\"https://nbviewer.jupyter.org/\">NBViewer</a>),\n",
       "  it may mean that your frontend doesn't currently support widgets.\n",
       "</p>\n"
      ],
      "text/plain": [
       "HBox(children=(IntProgress(value=1, bar_style='info', max=1), HTML(value='')))"
      ]
     },
     "metadata": {},
     "output_type": "display_data"
    },
    {
     "name": "stdout",
     "output_type": "stream",
     "text": [
      "\n"
     ]
    }
   ],
   "source": [
    "clfs = [\n",
    "    {\n",
    "        'name': 'MultinomialNB',\n",
    "        'clf': MultinomialNB()\n",
    "    },\n",
    "    {\n",
    "        'name': 'GaussianNB',\n",
    "        'clf': GaussianNB()\n",
    "    },\n",
    "    {\n",
    "        'name': 'LinearSVC',\n",
    "        'clf': LinearSVC(C=2)\n",
    "    },\n",
    "    {\n",
    "        'name': 'GradientBoostingClassifier',\n",
    "        'clf': GradientBoostingClassifier()\n",
    "    },\n",
    "    {\n",
    "        'name': 'RandomForestClassifier',\n",
    "        'clf': RandomForestClassifier()\n",
    "    },\n",
    "    {\n",
    "        'name': 'AdaBoostClassifier',\n",
    "        'clf': AdaBoostClassifier()\n",
    "    },\n",
    "    {\n",
    "        'name': 'DecisionTreeClassifier',\n",
    "        'clf': DecisionTreeClassifier()\n",
    "    },\n",
    "#     {\n",
    "#         'name': 'MLPClassifier',\n",
    "#         'clf': MLPClassifier(verbose=True, early_stopping=True)\n",
    "#     }\n",
    "]\n",
    "\n",
    "vectorizers = [\n",
    "    {\n",
    "        'name': 'Булевские вектора',\n",
    "        'vect': CountVectorizer(max_features=2000, binary=True)\n",
    "    },\n",
    "    {\n",
    "        'name': 'Частотные вектора',\n",
    "        'vect': CountVectorizer(max_features=2000)\n",
    "    },\n",
    "    {\n",
    "        'name': 'Норм. частотные вектора',\n",
    "        'vect': TfidfVectorizer(max_features=2000, use_idf=False)\n",
    "    },\n",
    "    {\n",
    "        'name': 'TF_IDF',\n",
    "        'vect': TfidfVectorizer(max_features=2000, use_idf=True)\n",
    "    }    \n",
    "]\n",
    "\n",
    "chart_data = test(clfs, vectorizers)"
   ]
  },
  {
   "cell_type": "code",
   "execution_count": 38,
   "metadata": {},
   "outputs": [
    {
     "data": {
      "text/plain": [
       "'{\"data\": {\"labels\": [\"Булевские вектора\", \"Частотные вектора\", \"Норм. частотные вектора\", \"TF_IDF\"], \"datasets\": [{\"label\": \"MultinomialNB\", \"data\": [0.847808105872622, 0.8467052660601048, 0.83264405845051, 0.8351254480286738], \"backgroundColor\": \"#109618\"}, {\"label\": \"GaussianNB\", \"data\": [0.6247587537910119, 0.6242073338847532, 0.6368899917287014, 0.6385442514474774], \"backgroundColor\": \"#FF9900\"}, {\"label\": \"LinearSVC\", \"data\": [0.8227185001378551, 0.8229942100909843, 0.847808105872622, 0.841466776950648], \"backgroundColor\": \"#3366CC\"}, {\"label\": \"GradientBoostingClassifier\", \"data\": [0.8309897987317342, 0.8331954783567687, 0.8362282878411911, 0.830714088778605], \"backgroundColor\": \"#DC3912\"}, {\"label\": \"RandomForestClassifier\", \"data\": [0.8243727598566308, 0.8240970499035015, 0.8235456299972429, 0.830714088778605], \"backgroundColor\": \"#0099C6\"}, {\"label\": \"AdaBoostClassifier\", \"data\": [0.8263027295285359, 0.8274055693410531, 0.8251998897160187, 0.8274055693410531], \"backgroundColor\": \"#DD4477\"}, {\"label\": \"DecisionTreeClassifier\", \"data\": [0.8097601323407774, 0.8061759029500966, 0.8061759029500966, 0.8039702233250621], \"backgroundColor\": \"#AAAA11\"}]}, \"options\": {\"title\": {\"text\": \"Классификаторы тональностей\", \"display\": true, \"fontSize\": 18}, \"scales\": {\"yAxes\": [{\"scaleLabel\": {\"display\": true, \"labelString\": \"Accuracy\"}}]}, \"responsive\": true}}'"
      ]
     },
     "execution_count": 38,
     "metadata": {},
     "output_type": "execute_result"
    }
   ],
   "source": [
    "import json\n",
    "json.dumps(chart_data, ensure_ascii=False)"
   ]
  },
  {
   "cell_type": "markdown",
   "metadata": {},
   "source": [
    "# Исследование: удаление стоп слов"
   ]
  },
  {
   "cell_type": "code",
   "execution_count": 39,
   "metadata": {},
   "outputs": [],
   "source": [
    "## STOP_WORDS\n",
    "\n",
    "# TEST 1\n",
    "STOP_WORDS_1 = stopwords.words('russian')\n",
    "\n",
    "# TEST 2\n",
    "STOP_WORDS_2 = stopwords.words('russian')\n",
    "STOP_WORDS_2.extend(['что', 'это', 'так', 'вот', 'быть', 'как', 'в', '—', 'к', 'на'])\n",
    "\n",
    "# TEST 3\n",
    "STOP_WORDS_3 = get_stop_words('ru')"
   ]
  },
  {
   "cell_type": "code",
   "execution_count": 40,
   "metadata": {},
   "outputs": [
    {
     "data": {
      "application/vnd.jupyter.widget-view+json": {
       "model_id": "0728fe820af5496f8e9746dd79e0718e",
       "version_major": 2,
       "version_minor": 0
      },
      "text/html": [
       "<p>Failed to display Jupyter Widget of type <code>HBox</code>.</p>\n",
       "<p>\n",
       "  If you're reading this message in the Jupyter Notebook or JupyterLab Notebook, it may mean\n",
       "  that the widgets JavaScript is still loading. If this message persists, it\n",
       "  likely means that the widgets JavaScript library is either not installed or\n",
       "  not enabled. See the <a href=\"https://ipywidgets.readthedocs.io/en/stable/user_install.html\">Jupyter\n",
       "  Widgets Documentation</a> for setup instructions.\n",
       "</p>\n",
       "<p>\n",
       "  If you're reading this message in another frontend (for example, a static\n",
       "  rendering on GitHub or <a href=\"https://nbviewer.jupyter.org/\">NBViewer</a>),\n",
       "  it may mean that your frontend doesn't currently support widgets.\n",
       "</p>\n"
      ],
      "text/plain": [
       "HBox(children=(IntProgress(value=1, bar_style='info', max=1), HTML(value='')))"
      ]
     },
     "metadata": {},
     "output_type": "display_data"
    },
    {
     "name": "stdout",
     "output_type": "stream",
     "text": [
      "\n"
     ]
    }
   ],
   "source": [
    "clfs = [\n",
    "    {\n",
    "        'name': 'MultinomialNB',\n",
    "        'clf': MultinomialNB()\n",
    "    },\n",
    "    {\n",
    "        'name': 'LinearSVC',\n",
    "        'clf': LinearSVC(C=2)\n",
    "    },\n",
    "    {\n",
    "        'name': 'GradientBoostingClassifier',\n",
    "        'clf': GradientBoostingClassifier()\n",
    "    },\n",
    "]\n",
    "\n",
    "vectorizers = [\n",
    "    {\n",
    "        'name': 'Исходный текст',\n",
    "        'vect': TfidfVectorizer(max_features=2000, use_idf=False)\n",
    "    },\n",
    "    {\n",
    "        'name': 'Стоп-слова nltk',\n",
    "        'vect': TfidfVectorizer(max_features=2000, stop_words=STOP_WORDS_1, use_idf=False)\n",
    "    },\n",
    "    {\n",
    "        'name': 'Стоп-слова nltk + доп.',\n",
    "        'vect': TfidfVectorizer(max_features=2000, stop_words=STOP_WORDS_2, use_idf=False)\n",
    "    },\n",
    "    {\n",
    "        'name': 'Стоп-слова many-stop-words',\n",
    "        'vect': TfidfVectorizer(max_features=2000, stop_words=STOP_WORDS_3, use_idf=False)\n",
    "    },\n",
    "]\n",
    "\n",
    "colors = [\n",
    "    '#109618', '#3366CC', '#DC3912', '#0099C6','#DD4477', '#AAAA11','#994499','#22AA99','#6633CC','#E67300','#8B0707','#329262','#5574A6','#3B3EAC'\n",
    "]\n",
    "chart_data = test(clfs, vectorizers)"
   ]
  },
  {
   "cell_type": "code",
   "execution_count": 41,
   "metadata": {},
   "outputs": [
    {
     "data": {
      "text/plain": [
       "'{\"data\": {\"labels\": [\"Исходный текст\", \"Стоп-слова nltk\", \"Стоп-слова nltk + доп.\", \"Стоп-слова many-stop-words\"], \"datasets\": [{\"label\": \"MultinomialNB\", \"data\": [0.83264405845051, 0.8276812792941826, 0.8268541494347946, 0.8213399503722084], \"backgroundColor\": \"#109618\"}, {\"label\": \"LinearSVC\", \"data\": [0.847808105872622, 0.8392610973256135, 0.8400882271850013, 0.8312655086848636], \"backgroundColor\": \"#3366CC\"}, {\"label\": \"GradientBoostingClassifier\", \"data\": [0.8354011579818031, 0.8199614006065619, 0.821891370278467, 0.8180314309346568], \"backgroundColor\": \"#DC3912\"}]}, \"options\": {\"title\": {\"text\": \"Классификаторы тональностей\", \"display\": true, \"fontSize\": 18}, \"scales\": {\"yAxes\": [{\"scaleLabel\": {\"display\": true, \"labelString\": \"Accuracy\"}}]}, \"responsive\": true}}'"
      ]
     },
     "execution_count": 41,
     "metadata": {},
     "output_type": "execute_result"
    }
   ],
   "source": [
    "json.dumps(chart_data, ensure_ascii=False)"
   ]
  },
  {
   "cell_type": "code",
   "execution_count": null,
   "metadata": {},
   "outputs": [],
   "source": []
  },
  {
   "cell_type": "code",
   "execution_count": 7,
   "metadata": {},
   "outputs": [
    {
     "ename": "NameError",
     "evalue": "name 'result' is not defined",
     "output_type": "error",
     "traceback": [
      "\u001b[0;31m---------------------------------------------------------------------------\u001b[0m",
      "\u001b[0;31mNameError\u001b[0m                                 Traceback (most recent call last)",
      "\u001b[0;32m<ipython-input-7-bfb8db4c4482>\u001b[0m in \u001b[0;36m<module>\u001b[0;34m()\u001b[0m\n\u001b[0;32m----> 1\u001b[0;31m \u001b[0mresult\u001b[0m\u001b[0;34m.\u001b[0m\u001b[0mstyle\u001b[0m\u001b[0;34m.\u001b[0m\u001b[0mbar\u001b[0m\u001b[0;34m(\u001b[0m\u001b[0msubset\u001b[0m\u001b[0;34m=\u001b[0m\u001b[0;34m[\u001b[0m\u001b[0;34m'Precision'\u001b[0m\u001b[0;34m,\u001b[0m \u001b[0;34m'Recall'\u001b[0m\u001b[0;34m,\u001b[0m \u001b[0;34m'F1-score'\u001b[0m\u001b[0;34m]\u001b[0m\u001b[0;34m,\u001b[0m \u001b[0mcolor\u001b[0m\u001b[0;34m=\u001b[0m\u001b[0;34m'#5fba7d'\u001b[0m\u001b[0;34m)\u001b[0m\u001b[0;34m.\u001b[0m\u001b[0mformat\u001b[0m\u001b[0;34m(\u001b[0m\u001b[0;34m\"{:.2}\"\u001b[0m\u001b[0;34m,\u001b[0m \u001b[0msubset\u001b[0m\u001b[0;34m=\u001b[0m\u001b[0;34m[\u001b[0m\u001b[0;34m'Precision'\u001b[0m\u001b[0;34m,\u001b[0m \u001b[0;34m'Recall'\u001b[0m\u001b[0;34m,\u001b[0m \u001b[0;34m'F1-score'\u001b[0m\u001b[0;34m]\u001b[0m\u001b[0;34m,\u001b[0m \u001b[0;34m)\u001b[0m\u001b[0;34m\u001b[0m\u001b[0m\n\u001b[0m",
      "\u001b[0;31mNameError\u001b[0m: name 'result' is not defined"
     ]
    }
   ],
   "source": [
    "result.style.bar(subset=['Precision', 'Recall', 'F1-score'], color='#5fba7d').format(\"{:.2}\", subset=['Precision', 'Recall', 'F1-score'], )"
   ]
  },
  {
   "cell_type": "code",
   "execution_count": null,
   "metadata": {},
   "outputs": [],
   "source": [
    "F1_macro = np.mean(result['F1-score'])\n",
    "F1_macro"
   ]
  },
  {
   "cell_type": "code",
   "execution_count": null,
   "metadata": {},
   "outputs": [],
   "source": []
  },
  {
   "cell_type": "code",
   "execution_count": null,
   "metadata": {},
   "outputs": [],
   "source": []
  }
 ],
 "metadata": {
  "kernelspec": {
   "display_name": "Django Shell-Plus",
   "language": "python",
   "name": "django_extensions"
  },
  "language_info": {
   "codemirror_mode": {
    "name": "ipython",
    "version": 3
   },
   "file_extension": ".py",
   "mimetype": "text/x-python",
   "name": "python",
   "nbconvert_exporter": "python",
   "pygments_lexer": "ipython3",
   "version": "3.6.4"
  }
 },
 "nbformat": 4,
 "nbformat_minor": 2
}
