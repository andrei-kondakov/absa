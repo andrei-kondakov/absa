{
 "cells": [
  {
   "cell_type": "code",
   "execution_count": null,
   "metadata": {},
   "outputs": [],
   "source": []
  },
  {
   "cell_type": "code",
   "execution_count": 5,
   "metadata": {},
   "outputs": [],
   "source": [
    "from data.models import Task"
   ]
  },
  {
   "cell_type": "markdown",
   "metadata": {},
   "source": [
    "# AMBIENCE#GENERAL"
   ]
  },
  {
   "cell_type": "code",
   "execution_count": 6,
   "metadata": {},
   "outputs": [],
   "source": [
    "Task.objects.get_or_create(\n",
    "    type=Task.Type.ASPECT_DETECTION,\n",
    "    aspect_entity='AMBIENCE',\n",
    "    aspect_attribute='GENERAL'\n",
    ")"
   ]
  },
  {
   "cell_type": "markdown",
   "metadata": {},
   "source": [
    "# DRINKS"
   ]
  },
  {
   "cell_type": "code",
   "execution_count": 9,
   "metadata": {},
   "outputs": [
    {
     "data": {
      "text/plain": [
       "(<Task: Aspect detection, attribute: STYLE_OPTIONS>, True)"
      ]
     },
     "execution_count": 9,
     "metadata": {},
     "output_type": "execute_result"
    }
   ],
   "source": [
    "Task.objects.get_or_create(\n",
    "    type=Task.Type.ASPECT_DETECTION,\n",
    "    aspect_entity='DRINKS',\n",
    "    aspect_attribute='PRICES'\n",
    ")\n",
    "Task.objects.get_or_create(\n",
    "    type=Task.Type.ASPECT_DETECTION,\n",
    "    aspect_entity='DRINKS',\n",
    "    aspect_attribute='QUALITY'\n",
    ")\n",
    "Task.objects.get_or_create(\n",
    "    type=Task.Type.ASPECT_DETECTION,\n",
    "    aspect_entity='DRINKS',\n",
    "    aspect_attribute='STYLE_OPTIONS'\n",
    ")\n",
    "Task.objects.get_or_create(\n",
    "    type=Task.Type.ASPECT_DETECTION,\n",
    "    aspect_entity='DRINKS',\n",
    "    aspect_attribute=''\n",
    ")\n",
    "Task.objects.get_or_create(\n",
    "    type=Task.Type.ASPECT_DETECTION,\n",
    "    aspect_entity='',\n",
    "    aspect_attribute='PRICES',\n",
    ")\n",
    "Task.objects.get_or_create(\n",
    "    type=Task.Type.ASPECT_DETECTION,\n",
    "    aspect_entity='',\n",
    "    aspect_attribute='QUALITY'\n",
    ")\n",
    "Task.objects.get_or_create(\n",
    "    type=Task.Type.ASPECT_DETECTION,\n",
    "    aspect_entity='',\n",
    "    aspect_attribute='STYLE_OPTIONS'\n",
    ")"
   ]
  },
  {
   "cell_type": "markdown",
   "metadata": {},
   "source": [
    "# FOOD"
   ]
  },
  {
   "cell_type": "code",
   "execution_count": 10,
   "metadata": {},
   "outputs": [
    {
     "data": {
      "text/plain": [
       "(<Task: Aspect detection, attribute: STYLE_OPTIONS>, False)"
      ]
     },
     "execution_count": 10,
     "metadata": {},
     "output_type": "execute_result"
    }
   ],
   "source": [
    "Task.objects.get_or_create(\n",
    "    type=Task.Type.ASPECT_DETECTION,\n",
    "    aspect_entity='FOOD',\n",
    "    aspect_attribute='PRICES'\n",
    ")\n",
    "Task.objects.get_or_create(\n",
    "    type=Task.Type.ASPECT_DETECTION,\n",
    "    aspect_entity='FOOD',\n",
    "    aspect_attribute='QUALITY'\n",
    ")\n",
    "Task.objects.get_or_create(\n",
    "    type=Task.Type.ASPECT_DETECTION,\n",
    "    aspect_entity='FOOD',\n",
    "    aspect_attribute='STYLE_OPTIONS'\n",
    ")\n",
    "Task.objects.get_or_create(\n",
    "    type=Task.Type.ASPECT_DETECTION,\n",
    "    aspect_entity='FOOD',\n",
    "    aspect_attribute=''\n",
    ")\n",
    "Task.objects.get_or_create(\n",
    "    type=Task.Type.ASPECT_DETECTION,\n",
    "    aspect_entity='',\n",
    "    aspect_attribute='PRICES',\n",
    ")\n",
    "Task.objects.get_or_create(\n",
    "    type=Task.Type.ASPECT_DETECTION,\n",
    "    aspect_entity='',\n",
    "    aspect_attribute='QUALITY'\n",
    ")\n",
    "Task.objects.get_or_create(\n",
    "    type=Task.Type.ASPECT_DETECTION,\n",
    "    aspect_entity='',\n",
    "    aspect_attribute='STYLE_OPTIONS'\n",
    ")"
   ]
  },
  {
   "cell_type": "markdown",
   "metadata": {},
   "source": [
    "# LOCATION"
   ]
  },
  {
   "cell_type": "code",
   "execution_count": 11,
   "metadata": {},
   "outputs": [
    {
     "data": {
      "text/plain": [
       "(<Task: Aspect detection, entity: LOCATION, attribute: GENERAL>, True)"
      ]
     },
     "execution_count": 11,
     "metadata": {},
     "output_type": "execute_result"
    }
   ],
   "source": [
    "Task.objects.get_or_create(\n",
    "    type=Task.Type.ASPECT_DETECTION,\n",
    "    aspect_entity='LOCATION',\n",
    "    aspect_attribute='GENERAL'\n",
    ")"
   ]
  },
  {
   "cell_type": "markdown",
   "metadata": {},
   "source": [
    "# RESTAURANT"
   ]
  },
  {
   "cell_type": "code",
   "execution_count": 13,
   "metadata": {},
   "outputs": [
    {
     "data": {
      "text/plain": [
       "(<Task: Aspect detection, attribute: PRICES>, False)"
      ]
     },
     "execution_count": 13,
     "metadata": {},
     "output_type": "execute_result"
    }
   ],
   "source": [
    "Task.objects.get_or_create(\n",
    "    type=Task.Type.ASPECT_DETECTION,\n",
    "    aspect_entity='RESTAURANT',\n",
    "    aspect_attribute='GENERAL'\n",
    ")\n",
    "Task.objects.get_or_create(\n",
    "    type=Task.Type.ASPECT_DETECTION,\n",
    "    aspect_entity='RESTAURANT',\n",
    "    aspect_attribute='MISCELLANEOUS'\n",
    ")\n",
    "Task.objects.get_or_create(\n",
    "    type=Task.Type.ASPECT_DETECTION,\n",
    "    aspect_entity='RESTAURANT',\n",
    "    aspect_attribute='PRICES'\n",
    ")\n",
    "Task.objects.get_or_create(\n",
    "    type=Task.Type.ASPECT_DETECTION,\n",
    "    aspect_entity='RESTAURANT',\n",
    "    aspect_attribute=''\n",
    ")\n",
    "Task.objects.get_or_create(\n",
    "    type=Task.Type.ASPECT_DETECTION,\n",
    "    aspect_entity='',\n",
    "    aspect_attribute='MISCELLANEOUS',\n",
    ")\n",
    "Task.objects.get_or_create(\n",
    "    type=Task.Type.ASPECT_DETECTION,\n",
    "    aspect_entity='',\n",
    "    aspect_attribute='PRICES'\n",
    ")"
   ]
  },
  {
   "cell_type": "markdown",
   "metadata": {},
   "source": [
    "# SERVICE"
   ]
  },
  {
   "cell_type": "code",
   "execution_count": 14,
   "metadata": {},
   "outputs": [
    {
     "data": {
      "text/plain": [
       "(<Task: Aspect detection, entity: SERVICE, attribute: GENERAL>, True)"
      ]
     },
     "execution_count": 14,
     "metadata": {},
     "output_type": "execute_result"
    }
   ],
   "source": [
    "Task.objects.get_or_create(\n",
    "    type=Task.Type.ASPECT_DETECTION,\n",
    "    aspect_entity='SERVICE',\n",
    "    aspect_attribute='GENERAL'\n",
    ")"
   ]
  },
  {
   "cell_type": "code",
   "execution_count": null,
   "metadata": {},
   "outputs": [],
   "source": []
  },
  {
   "cell_type": "code",
   "execution_count": null,
   "metadata": {},
   "outputs": [],
   "source": [
    "Task.objects.get_or_create(\n",
    "    type=Task.Type.POLARITY_DETECTION,\n",
    "    pola\n",
    ")"
   ]
  },
  {
   "cell_type": "code",
   "execution_count": null,
   "metadata": {},
   "outputs": [],
   "source": []
  }
 ],
 "metadata": {
  "kernelspec": {
   "display_name": "Django Shell-Plus",
   "language": "python",
   "name": "django_extensions"
  },
  "language_info": {
   "codemirror_mode": {
    "name": "ipython",
    "version": 3
   },
   "file_extension": ".py",
   "mimetype": "text/x-python",
   "name": "python",
   "nbconvert_exporter": "python",
   "pygments_lexer": "ipython3",
   "version": "3.6.5"
  }
 },
 "nbformat": 4,
 "nbformat_minor": 2
}
