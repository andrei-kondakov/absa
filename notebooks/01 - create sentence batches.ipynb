{
 "cells": [
  {
   "cell_type": "code",
   "execution_count": 1,
   "metadata": {},
   "outputs": [],
   "source": [
    "import os \n",
    "from django.conf import settings\n",
    "from django.core.management import call_command\n",
    "from word_embeddings.models import Word2Vec\n",
    "from data.models import SentenceBatch, Task, TrainSentence, TestSentence\n",
    "from data.utils.preprocessing import Preprocessing\n",
    "from data.utils.processing import Processing\n",
    "from tqdm import tqdm_notebook"
   ]
  },
  {
   "cell_type": "code",
   "execution_count": 2,
   "metadata": {},
   "outputs": [],
   "source": [
    "raw_data_dir = os.path.join(os.path.dirname(settings.BASE_DIR), 'raw_data')\n",
    "assert os.path.exists(raw_data_dir)\n",
    "if not TrainSentence.objects.count():\n",
    "    call_command('load_sentences', os.path.join(raw_data_dir, 'se16_ru_rest_train.xml'))\n",
    "if not TestSentence.objects.count():\n",
    "    call_command('load_sentences', os.path.join(raw_data_dir, 'se16_ru_rest_test.xml'))"
   ]
  },
  {
   "cell_type": "markdown",
   "metadata": {},
   "source": [
    "# W2V indexes v1"
   ]
  },
  {
   "cell_type": "code",
   "execution_count": 3,
   "metadata": {},
   "outputs": [],
   "source": [
    "w2v_model=Word2Vec.objects.first()\n",
    "assert w2v_model"
   ]
  },
  {
   "cell_type": "code",
   "execution_count": null,
   "metadata": {},
   "outputs": [],
   "source": [
    "for task in tqdm_notebook(Task.objects.filter(type=Task.Type.ASPECT_DETECTION)):\n",
    "    SentenceBatch.objects.get_or_create(\n",
    "        task=task,\n",
    "        preprocessing=Preprocessing.PREPROCESSING_1,\n",
    "        processing=Processing.W2V_INDEXES_1,\n",
    "        w2v_model=w2v_model\n",
    "    )"
   ]
  },
  {
   "cell_type": "code",
   "execution_count": 4,
   "metadata": {},
   "outputs": [
    {
     "data": {
      "application/vnd.jupyter.widget-view+json": {
       "model_id": "5169e0464dd14144873f7e2c6558602a",
       "version_major": 2,
       "version_minor": 0
      },
      "text/plain": [
       "HBox(children=(IntProgress(value=0, max=3), HTML(value='')))"
      ]
     },
     "metadata": {},
     "output_type": "display_data"
    },
    {
     "name": "stdout",
     "output_type": "stream",
     "text": [
      "Loading w2v model from /home/user/.absa/models/w2v/best_model.model\n",
      "Loading w2v model using cache\n",
      "Loading w2v model using cache\n",
      "Loading w2v model using cache\n",
      "Loading w2v model using cache\n",
      "Loading w2v model using cache\n",
      "\n"
     ]
    }
   ],
   "source": [
    "for task in tqdm_notebook(Task.objects.filter(type=Task.Type.POLARITY_DETECTION)):\n",
    "    SentenceBatch.objects.get_or_create(\n",
    "        task=task,\n",
    "        preprocessing=Preprocessing.PREPROCESSING_1,\n",
    "        processing=Processing.W2V_INDEXES_1,\n",
    "        w2v_model=w2v_model\n",
    "    )"
   ]
  },
  {
   "cell_type": "code",
   "execution_count": null,
   "metadata": {},
   "outputs": [],
   "source": []
  }
 ],
 "metadata": {
  "kernelspec": {
   "display_name": "Django Shell-Plus",
   "language": "python",
   "name": "django_extensions"
  },
  "language_info": {
   "codemirror_mode": {
    "name": "ipython",
    "version": 3
   },
   "file_extension": ".py",
   "mimetype": "text/x-python",
   "name": "python",
   "nbconvert_exporter": "python",
   "pygments_lexer": "ipython3",
   "version": "3.6.5"
  }
 },
 "nbformat": 4,
 "nbformat_minor": 2
}
