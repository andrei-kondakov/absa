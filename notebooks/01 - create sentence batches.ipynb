{
 "cells": [
  {
   "cell_type": "code",
   "execution_count": 4,
   "metadata": {},
   "outputs": [],
   "source": [
    "from word_embeddings.models import Word2Vec\n",
    "from data.models import SentenceBatch, Task\n",
    "from data.utils.preprocessing import Preprocessing\n",
    "from data.utils.processing import Processing\n",
    "from tqdm import tqdm_notebook"
   ]
  },
  {
   "cell_type": "markdown",
   "metadata": {},
   "source": [
    "# W2V indexes v1"
   ]
  },
  {
   "cell_type": "code",
   "execution_count": 5,
   "metadata": {},
   "outputs": [],
   "source": [
    "w2v_model=Word2Vec.objects.first()"
   ]
  },
  {
   "cell_type": "code",
   "execution_count": 6,
   "metadata": {},
   "outputs": [
    {
     "data": {
      "application/vnd.jupyter.widget-view+json": {
       "model_id": "f650a99d488d4e5e9707fac1a6166d51",
       "version_major": 2,
       "version_minor": 0
      },
      "text/html": [
       "<p>Failed to display Jupyter Widget of type <code>HBox</code>.</p>\n",
       "<p>\n",
       "  If you're reading this message in the Jupyter Notebook or JupyterLab Notebook, it may mean\n",
       "  that the widgets JavaScript is still loading. If this message persists, it\n",
       "  likely means that the widgets JavaScript library is either not installed or\n",
       "  not enabled. See the <a href=\"https://ipywidgets.readthedocs.io/en/stable/user_install.html\">Jupyter\n",
       "  Widgets Documentation</a> for setup instructions.\n",
       "</p>\n",
       "<p>\n",
       "  If you're reading this message in another frontend (for example, a static\n",
       "  rendering on GitHub or <a href=\"https://nbviewer.jupyter.org/\">NBViewer</a>),\n",
       "  it may mean that your frontend doesn't currently support widgets.\n",
       "</p>\n"
      ],
      "text/plain": [
       "HBox(children=(IntProgress(value=0, max=19), HTML(value='')))"
      ]
     },
     "metadata": {},
     "output_type": "display_data"
    },
    {
     "name": "stdout",
     "output_type": "stream",
     "text": [
      "Loading w2v model from /home/user/.absa/models/w2v/best_model_AOMY7Fv.model\n",
      "Loading w2v model using cache\n",
      "Loading w2v model using cache\n",
      "Loading w2v model using cache\n",
      "Loading w2v model using cache\n",
      "Loading w2v model using cache\n",
      "Loading w2v model using cache\n",
      "Loading w2v model using cache\n",
      "Loading w2v model using cache\n",
      "Loading w2v model using cache\n",
      "Loading w2v model using cache\n",
      "Loading w2v model using cache\n",
      "Loading w2v model using cache\n",
      "Loading w2v model using cache\n",
      "Loading w2v model using cache\n",
      "Loading w2v model using cache\n",
      "Loading w2v model using cache\n",
      "Loading w2v model using cache\n",
      "Loading w2v model using cache\n",
      "Loading w2v model using cache\n",
      "Loading w2v model using cache\n",
      "Loading w2v model using cache\n",
      "Loading w2v model using cache\n",
      "Loading w2v model using cache\n",
      "Loading w2v model using cache\n",
      "Loading w2v model using cache\n",
      "Loading w2v model using cache\n",
      "Loading w2v model using cache\n",
      "Loading w2v model using cache\n",
      "Loading w2v model using cache\n",
      "Loading w2v model using cache\n",
      "Loading w2v model using cache\n",
      "Loading w2v model using cache\n",
      "Loading w2v model using cache\n",
      "Loading w2v model using cache\n",
      "Loading w2v model using cache\n",
      "Loading w2v model using cache\n",
      "Loading w2v model using cache\n",
      "\n"
     ]
    }
   ],
   "source": [
    "for task in tqdm_notebook(Task.objects.filter(type=Task.Type.ASPECT_DETECTION)):\n",
    "    SentenceBatch.objects.get_or_create(\n",
    "        task=task,\n",
    "        preprocessing=Preprocessing.PREPROCESSING_1,\n",
    "        processing=Processing.W2V_INDEXES_1,\n",
    "        w2v_model=w2v_model\n",
    "    )"
   ]
  },
  {
   "cell_type": "code",
   "execution_count": null,
   "metadata": {},
   "outputs": [],
   "source": []
  }
 ],
 "metadata": {
  "kernelspec": {
   "display_name": "Django Shell-Plus",
   "language": "python",
   "name": "django_extensions"
  },
  "language_info": {
   "codemirror_mode": {
    "name": "ipython",
    "version": 3
   },
   "file_extension": ".py",
   "mimetype": "text/x-python",
   "name": "python",
   "nbconvert_exporter": "python",
   "pygments_lexer": "ipython3",
   "version": "3.6.4"
  }
 },
 "nbformat": 4,
 "nbformat_minor": 2
}
